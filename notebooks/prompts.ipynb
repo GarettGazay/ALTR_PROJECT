{
 "cells": [
  {
   "cell_type": "markdown",
   "metadata": {},
   "source": [
    "# New Chat"
   ]
  },
  {
   "cell_type": "markdown",
   "metadata": {},
   "source": []
  },
  {
   "cell_type": "markdown",
   "metadata": {},
   "source": [
    "i am working on an rl app using rppo that learns to schedule ambulance transportation rides, currently i have decided to train my agent using an exponential learning rate decay, there are 3 day windows of rides that constitute a training session, the agent will be tasked with creating a full, 3 day schedule over the course of each training, giving the agent a larger time context. The goal of this project is to create a presentation on the efficiency and quality of my agent to use in job interviews since i don't have a CS degree and need at least one project like this to prove I am a competent engineer and there is no need for a traditional degree. My question is: "
   ]
  },
  {
   "cell_type": "markdown",
   "metadata": {},
   "source": []
  }
 ],
 "metadata": {
  "language_info": {
   "name": "python"
  }
 },
 "nbformat": 4,
 "nbformat_minor": 2
}
